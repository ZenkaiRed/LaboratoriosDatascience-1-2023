{
 "cells": [
  {
   "cell_type": "markdown",
   "metadata": {},
   "source": [
    "# Tarea 3: Regresión y Clasificación\n",
    "\n",
    "### Integrantes:\n",
    "- Marcelo Céspedes / 20723668-3\n",
    "- Carlo Ramírez / 20504139-7\n",
    "- Joaquín Pinto / 20881033-2 \n",
    "\n",
    "En esta tarea consideraremos la implementación de una regresión lineal para tareas de regresión y regresión logística para tareas de clasificación. Vamos a trabajar con varios conjuntos de datos, que serán descritos brevemente antes de importarlos. También consideraremos técnicas de regularización, las cuales estudiaremos en más detalle en clases posteriores.\n",
    "\n",
    "Primero, vamos a importar algunas librerías que necesitaremos antes de continuar."
   ]
  },
  {
   "cell_type": "code",
   "execution_count": 1,
   "metadata": {
    "ExecuteTime": {
     "end_time": "2023-09-13T11:24:49.969405700Z",
     "start_time": "2023-09-13T11:24:45.793677800Z"
    }
   },
   "outputs": [],
   "source": [
    "import numpy as np\n",
    "import pandas as pd\n",
    "import matplotlib.pyplot as plt\n",
    "from sklearn.linear_model import LinearRegression\n",
    "from sklearn.model_selection import train_test_split\n",
    "from sklearn.metrics import mean_squared_error\n",
    "from sklearn.metrics import r2_score"
   ]
  },
  {
   "cell_type": "markdown",
   "metadata": {},
   "source": [
    "El primer conjunto de datos se llama \"Seguro de Automóvil en Suecia\". Consiste en los siguientes datos:\n",
    "\n",
    "X = Número de reclamos de seguro.\n",
    "y = Pago total por todos los reclamos en miles de Coronas Suecas por zonas geográficas en Suecia.\n",
    "\n",
    "Referencia: Comité Sueco de Análisis de Prima de Riesgo en Seguros de Motor\n",
    "http://college.hmco.com/mathematics/brase/understandable_statistics/7e/students/datasets/slr/frames/frame.html\n",
    "\n",
    "Tu primera tarea es leer el conjunto de datos y dividirlo en un conjunto de entrenamiento (70%) y un conjunto de prueba (30%)."
   ]
  },
  {
   "cell_type": "code",
   "execution_count": 28,
   "metadata": {
    "ExecuteTime": {
     "end_time": "2023-09-13T12:18:37.463428300Z",
     "start_time": "2023-09-13T12:18:37.130756600Z"
    }
   },
   "outputs": [
    {
     "data": {
      "text/plain": "      X      Y\n0   108  392.5\n1    19   46.2\n2    13   15.7\n3   124  422.2\n4    40  119.4\n..  ...    ...\n58    9   87.4\n59   31  209.8\n60   14   95.5\n61   53  244.6\n62   26  187.5\n\n[63 rows x 2 columns]",
      "text/html": "<div>\n<style scoped>\n    .dataframe tbody tr th:only-of-type {\n        vertical-align: middle;\n    }\n\n    .dataframe tbody tr th {\n        vertical-align: top;\n    }\n\n    .dataframe thead th {\n        text-align: right;\n    }\n</style>\n<table border=\"1\" class=\"dataframe\">\n  <thead>\n    <tr style=\"text-align: right;\">\n      <th></th>\n      <th>X</th>\n      <th>Y</th>\n    </tr>\n  </thead>\n  <tbody>\n    <tr>\n      <th>0</th>\n      <td>108</td>\n      <td>392.5</td>\n    </tr>\n    <tr>\n      <th>1</th>\n      <td>19</td>\n      <td>46.2</td>\n    </tr>\n    <tr>\n      <th>2</th>\n      <td>13</td>\n      <td>15.7</td>\n    </tr>\n    <tr>\n      <th>3</th>\n      <td>124</td>\n      <td>422.2</td>\n    </tr>\n    <tr>\n      <th>4</th>\n      <td>40</td>\n      <td>119.4</td>\n    </tr>\n    <tr>\n      <th>...</th>\n      <td>...</td>\n      <td>...</td>\n    </tr>\n    <tr>\n      <th>58</th>\n      <td>9</td>\n      <td>87.4</td>\n    </tr>\n    <tr>\n      <th>59</th>\n      <td>31</td>\n      <td>209.8</td>\n    </tr>\n    <tr>\n      <th>60</th>\n      <td>14</td>\n      <td>95.5</td>\n    </tr>\n    <tr>\n      <th>61</th>\n      <td>53</td>\n      <td>244.6</td>\n    </tr>\n    <tr>\n      <th>62</th>\n      <td>26</td>\n      <td>187.5</td>\n    </tr>\n  </tbody>\n</table>\n<p>63 rows × 2 columns</p>\n</div>"
     },
     "metadata": {},
     "output_type": "display_data"
    }
   ],
   "source": [
    "# Cargar datos\n",
    "data = pd.read_csv(\"03_AutoInsurSweden.txt\", sep='\\t', header=8, decimal=',')\n",
    "display(data)\n",
    "# Separar datos en X (predictores) e y (respuesta).\n",
    "# Quizás necesites usar np.newaxis.\n",
    "X = data['X'].values # Completar\n",
    "y = data['Y'].values # Completar\n",
    "\n",
    "# Solamente los casteo a float para probar.\n",
    "X = X.astype(float)\n",
    "\n",
    "X = X[:, np.newaxis]\n",
    "y = y[:, np.newaxis]\n",
    "# Dividir para validación.\n",
    "# Dividir los datos en conjuntos de entrenamiento y prueba (proporción 30-70)\n",
    "X_train, X_test, y_train, y_test = train_test_split(X, y, test_size=0.3, random_state=1)"
   ]
  },
  {
   "cell_type": "markdown",
   "metadata": {},
   "source": [
    "## Regresión Lineal\n",
    "### Regresión Lineal Simple\n",
    "Vamos a implementar la Regresión Lineal utilizando las ecuaciones clásicas para datos en 2D. Esto debe hacerse utilizando únicamente numpy. Tu tarea es completar la siguiente clase."
   ]
  },
  {
   "cell_type": "code",
   "execution_count": 29,
   "metadata": {
    "ExecuteTime": {
     "end_time": "2023-09-13T12:18:44.207450300Z",
     "start_time": "2023-09-13T12:18:44.182337700Z"
    }
   },
   "outputs": [],
   "source": [
    "class SimpleLinearRegression(object):\n",
    "    def __init__(self):\n",
    "        self.coef_ = 0\n",
    "        self.intercept_ = 0\n",
    "\n",
    "# Los cambié para que no me diera error.\n",
    "    def fit(self, X_value, y_value):\n",
    "        self.intercept_, self.coef_ = self.coefficients(X_value, y_value)\n",
    "\n",
    "    def predict(self, X_test_value):\n",
    "        predictions = []\n",
    "        # Completar esta función\n",
    "        for x in X_test_value:\n",
    "            y_predict = self.intercept_ + self.coef_ * x\n",
    "            predictions.append(y_predict)\n",
    "        return predictions\n",
    "\n",
    "    # Calcular coeficientes\n",
    "    def coefficients(self, X_value, y_value):\n",
    "        x_mean = self.__mean(X_value)\n",
    "        y_mean = self.__mean(y_value)\n",
    "        b1 = self.__covariance(X_value, y_value) / self.__variance(X_value)\n",
    "        b0 = y_mean - b1 * x_mean\n",
    "        return [b0, b1]\n",
    "\n",
    "    # Calcular el valor promedio de una lista de números\n",
    "    def __mean(self, values):\n",
    "        return np.mean(values)\n",
    "\n",
    "    \n",
    "    # Calcular la covarianza entre X e y\n",
    "    def __covariance(self, X, y):\n",
    "        return np.cov(X.squeeze(1), y.squeeze(1), ddof=0)[0][1]\n",
    "\n",
    "    # Calcular la varianza de una lista de números\n",
    "    def __variance(self, values):\n",
    "        return np.var(values)"
   ]
  },
  {
   "cell_type": "markdown",
   "metadata": {},
   "source": [
    "Ahora probemos el modelo con el conjunto de datos de Seguro de Automóviles en Suecia. Para hacerlo, completarás el siguiente código."
   ]
  },
  {
   "cell_type": "code",
   "execution_count": 30,
   "metadata": {
    "ExecuteTime": {
     "end_time": "2023-09-13T12:18:46.218931800Z",
     "start_time": "2023-09-13T12:18:45.833691200Z"
    }
   },
   "outputs": [
    {
     "name": "stdout",
     "output_type": "stream",
     "text": [
      "Coeficiente (b1): 3.4138235600663682\n",
      "Intercepto (b0): 19.99448575911478\n",
      "Error Cuadrático Medio: 963.9567800465602\n",
      "Coeficiente R2: 0.9051157637465794\n"
     ]
    },
    {
     "data": {
      "text/plain": "<Figure size 640x480 with 1 Axes>",
      "image/png": "[encoded data removed]"
     },
     "metadata": {},
     "output_type": "display_data"
    }
   ],
   "source": [
    "model = SimpleLinearRegression()\n",
    "# Ajustar el modelo en el conjunto de entrenamiento.\n",
    "model.fit(X, y)\n",
    "# Imprimir coeficientes.\n",
    "print(\"Coeficiente (b1):\", model.coef_)\n",
    "print(\"Intercepto (b0):\", model.intercept_)\n",
    "y_pred = model.predict(X_test)# Predecir las respuestas en el conjunto de pruebas.\n",
    "\n",
    "# Evaluar los resultados en términos del MSE (error cuadrátic medio) y coeficiente R2.\n",
    "# Imprimir los resultados sobre el conjunto de pruebas.\n",
    "\n",
    "mse = mean_squared_error(y_test, y_pred)\n",
    "r2 = r2_score(y_test, y_pred)\n",
    "\n",
    "print(\"Error Cuadrático Medio:\", mse)\n",
    "print(\"Coeficiente R2:\", r2)\n",
    "\n",
    "# Graficar los datos con un scatter plot y luego incluir la línea predicha por la regresión lineal.\n",
    "\n",
    "plt.scatter(X, y, label='Datos de entrenamiento', color='blue')\n",
    "\n",
    "plt.plot(X_test, y_pred, label='Línea de regresión', color='red')\n",
    "\n",
    "# Decoraciones :)\n",
    "plt.xlabel('X')\n",
    "plt.ylabel('Y')\n",
    "plt.legend()\n",
    "plt.show()"
   ]
  },
  {
   "cell_type": "markdown",
   "metadata": {},
   "source": [
    "### Usando sklearn.\n",
    "\n",
    "En la práctica, rara vez, si es que alguna vez, implementarás un algoritmo desde cero. El escenario más probable es que termines utilizando una librería; para prototipos rápidos, scikit-learn (sklearn) es la elección habitual. Así que ahora implementarás la regresión lineal utilizando esta librería."
   ]
  },
  {
   "cell_type": "code",
   "execution_count": 33,
   "metadata": {
    "ExecuteTime": {
     "end_time": "2023-09-13T12:29:01.979093700Z",
     "start_time": "2023-09-13T12:29:01.916525500Z"
    }
   },
   "outputs": [
    {
     "name": "stdout",
     "output_type": "stream",
     "text": [
      "Coeficiente (b1): [3.41382356]\n",
      "Intercepto (b0): [19.99448576]\n"
     ]
    }
   ],
   "source": [
    "# Usa la clase LinearRegression de la librería scikit-learn y realiza el mismo análisis anterior.\n",
    "\n",
    "modelo = LinearRegression()\n",
    "modelo.fit(X, y)\n",
    "\n",
    "# Imprimir coeficientes\n",
    "print(\"Coeficiente (b1):\", modelo.coef_[0])\n",
    "print(\"Intercepto (b0):\", modelo.intercept_)\n"
   ]
  },
  {
   "cell_type": "markdown",
   "metadata": {},
   "source": [
    "### Regresión Lineal Múltiple\n",
    "\n",
    "Ahora construiremos un modelo de Regresión Lineal Múltiple, aunque primero lo probaremos en nuestros datos en 2D. Primero, necesitamos preparar nuestros datos, deberás agregar una columna llena de unos. También necesitarás dividir los datos en conjuntos de entrenamiento y prueba nuevamente. Técnicamente, podrías simplemente agregar la columna de unos a nuestros conjuntos de datos ya divididos, pero es más fácil hacerlo desde cero (aunque no muy eficiente)."
   ]
  },
  {
   "cell_type": "code",
   "execution_count": null,
   "metadata": {},
   "outputs": [],
   "source": [
    "# Lee los datos y agrega una nueva columna llena de números 1.\n",
    "\n",
    "X = data['X'].values # Completar aqui.\n",
    "y = data['Y'].values # Completar aqui.\n",
    "\n",
    "X = X[:, np.newaxis]\n",
    "y = y[:, np.newaxis]\n",
    "\n",
    "# Dividir el conjunto de datos para validación.\n",
    "X_train, X_test, y_train, y_test = # Completar (proporción 70-30 de nuevo)."
   ]
  },
  {
   "cell_type": "markdown",
   "metadata": {},
   "source": [
    "Ahora debes implementar la clase `MultipleLinearRegression`, completa el siguiente código."
   ]
  },
  {
   "cell_type": "code",
   "execution_count": null,
   "metadata": {},
   "outputs": [],
   "source": [
    "class MultipleLinearRegression(object):\n",
    "    def __init__(self):\n",
    "        self.theta_ = np.array([0])\n",
    "\n",
    "    def fit(self, X, y):\n",
    "        self.theta_ = # Completa esta parte (usa numpy y sus funciones de álgebra lineal)\n",
    "        \n",
    "    def predict(self,X_test):\n",
    "        predictions = []\n",
    "        # Completa esta funcion.\n",
    "        return predictions"
   ]
  },
  {
   "cell_type": "markdown",
   "metadata": {},
   "source": [
    "Ahora vectoriza el conjunto de prueba."
   ]
  },
  {
   "cell_type": "code",
   "execution_count": null,
   "metadata": {},
   "outputs": [],
   "source": [
    "# Evalua MultipleLinearRegression siguiendo el mismo esquema de antes."
   ]
  },
  {
   "cell_type": "markdown",
   "metadata": {},
   "source": [
    "**Ejercicio:**\n",
    "Compare todos los modelos implementados y explique sus diferencias si es que las hay. Debes escribir tu respuesta en esta celda.\n",
    "\n",
    "**Respuesta:**"
   ]
  },
  {
   "cell_type": "markdown",
   "metadata": {},
   "source": [
    "## Regularización\n",
    "\n",
    "Ahora que entendemos los conceptos básicos de la regresión lineal, nos centraremos en el problema más interesante de sobreajuste, que por ahora resolveremos utilizando regularización.\n",
    "\n",
    "Veremos dos modelos de regularización: Regresión Ridge (L2) y LASSO (L1), pero en esta tarea solo implementaremos uno.0 Ten en cuenta que estas ideas se pueden aplicar a otros algoritmos, pero por simplicidad las estudiaremos utilizando la regresión lineal clásica.\n",
    "\n",
    "Fuente: https://www.analyticsvidhya.com/blog/2016/01/complete-tutorial-ridge-lasso-regression-python/\n",
    "\n",
    "La regresión Ridge y LASSO son técnicas poderosas que se utilizan generalmente para crear modelos parsimoniosos en presencia de un \"gran\" número de características. Aquí, \"gran\" puede significar típicamente una de dos cosas:\n",
    "\n",
    "- Suficientemente grande como para aumentar la tendencia de un modelo a sobreajustar (incluso tan pocas como 10 variables pueden causar sobreajuste).\n",
    "- Suficientemente grande como para causar desafíos computacionales. Con los sistemas modernos, esta situación podría surgir en caso de millones o miles de millones de características.\n",
    "\n",
    "### Nuevos datos\n",
    "\n",
    "Ahora leeremos nuevos datos multidimensionales desde el archivo 02_Winequality.csv. Nuestro objetivo será predecir la calidad de cada vino."
   ]
  },
  {
   "cell_type": "code",
   "execution_count": 39,
   "metadata": {
    "ExecuteTime": {
     "end_time": "2023-09-13T12:40:40.771167200Z",
     "start_time": "2023-09-13T12:40:40.622085Z"
    }
   },
   "outputs": [
    {
     "name": "stdout",
     "output_type": "stream",
     "text": [
      "Index(['fixed_acidity', 'volatile_acidity', 'citric_acid', 'residual_sugar',\n",
      "       'chlorides', 'free_sulfur_dioxide', 'total_sulfur_dioxide', 'density',\n",
      "       'ph', 'sulphates', 'alcohol', 'quality', 'red_wine'],\n",
      "      dtype='object')\n"
     ]
    }
   ],
   "source": [
    "wine = pd.read_csv('03_Winequality.csv', delimiter=',') # Lee el archivo 03_Winequality.csv con pandas.\n",
    "\n",
    "# Reemplazar espacios en los nombres de las columnas y convertir todas las columnas a minúsculas.\n",
    "wine.columns = wine.columns.str.lower()# Completar esta parte.\n",
    "wine.columns = wine.columns.str.replace(' ', '_')\n",
    "\n",
    "print(wine.columns)"
   ]
  },
  {
   "cell_type": "markdown",
   "metadata": {},
   "source": [
    "### Regresión Ridge\n",
    "\n",
    "También conocida simplemente como Regresión Lineal Regularizada o Mínimos Cuadrados Regularizados, dependiendo de la fuente. Esta técnica es fácil de implementar, de hecho, ¡la vimos en nuestra clase sobre regresión! No utilizaremos scikit-learn para esta parte, ya que simplemente sigue la misma plantilla que antes, solo que requiere proporcionar el parámetro adicional de regularización.\n",
    "\n",
    "Todo lo que necesitamos hacer es implementar la siguiente ecuación:\n",
    "\n",
    "$$\\theta = {(X^T X + \\lambda I)}^{-1} X^T y$$\n",
    "\n",
    "Entonces, tu tarea es implementar la siguiente clase utilizando numpy."
   ]
  },
  {
   "cell_type": "code",
   "execution_count": 40,
   "metadata": {
    "ExecuteTime": {
     "end_time": "2023-09-13T12:41:04.644122100Z",
     "start_time": "2023-09-13T12:41:04.561944700Z"
    }
   },
   "outputs": [],
   "source": [
    "class RidgeRegression(object):\n",
    "    def __init__(self, r_lambda):\n",
    "        self.theta_ = np.array([0])\n",
    "        self.lambda_ = r_lambda\n",
    "\n",
    "    def fit(self, X, y):\n",
    "        # Calcular la matriz de diseño transpuesta\n",
    "        X_transpose = X.T\n",
    "        \n",
    "        # Calcular X^T * X\n",
    "        XTX = np.dot(X_transpose, X)\n",
    "        \n",
    "        # Calcular lambda * I (matriz identidad del tamaño de XTX)\n",
    "        lambda_I = self.lambda_ * np.identity(XTX.shape[0])\n",
    "        \n",
    "        # Calcular la inversa de (X^T * X + lambda * I)\n",
    "        inverse = np.linalg.inv(XTX + lambda_I)\n",
    "        \n",
    "        # Calcular X^T * y\n",
    "        XTy = np.dot(X_transpose, y)\n",
    "        \n",
    "        # Calcular theta\n",
    "        self.theta_ = np.dot(inverse, XTy) # Completar esta parte.\n",
    "        \n",
    "    def predict(self,X_test):\n",
    "        # Completar esta parte.\n",
    "        predictions = np.dot(X_test, self.theta_)\n",
    "        return predictions"
   ]
  },
  {
   "cell_type": "markdown",
   "metadata": {},
   "source": [
    "Cuando uses la Regresión Ridge (o otros modelos como LASSO), siempre estandariza las columnas predictoras antes de construir los modelos, ¡incluso las variables categóricas codificadas como dummy! Definiremos nuestra variable objetivo y normalizaremos las columnas que no son la variable objetivo a continuación.\n",
    "\n",
    "Recordemos la ecuación para la penalización Ridge:\n",
    "\n",
    "$$ \\text{Ridge Penalty}\\; = \\lambda\\sum_{j=0}^{n-1} \\theta_j^2$$\n",
    "\n",
    "¿Cómo se ven afectados los coeficientes $\\theta$ por la media y la varianza de tus variables? Si la media y la varianza de tus predictores $x$ son diferentes, sus respectivos coeficientes $\\beta$ se escalan con la media y la varianza de los predictores, independientemente de su poder explicativo. Esto significa que una de tus variables $x$ (por ejemplo, la acidez fija) tendrá un valor $\\beta$ mucho más pequeño que otra variable (digamos, el ácido cítrico), porque la escala de las dos variables es muy diferente. Debido a que las penalizaciones Ridge no tienen en cuenta la media y la varianza de tus predictores, el ajuste depende de ti. Estas penalizaciones solo se ven afectadas por el valor de los coeficientes.\n",
    "\n",
    "Ahora prueba tu regresión con los datos del conjunto de datos de calidad del vino. No olvides normalizar restando la media y dividiendo por la desviación estándar. No debes normalizar la variable objetivo/dependiente."
   ]
  },
  {
   "cell_type": "code",
   "execution_count": 41,
   "metadata": {
    "ExecuteTime": {
     "end_time": "2023-09-13T12:41:21.246562300Z",
     "start_time": "2023-09-13T12:41:21.048242200Z"
    }
   },
   "outputs": [
    {
     "data": {
      "text/plain": "      fixed_acidity  volatile_acidity  citric_acid  residual_sugar  chlorides  \\\n0          0.142462          2.188664    -2.192664       -0.744721   0.569914   \n1          0.451001          3.281982    -2.192664       -0.597594   1.197883   \n2          0.451001          2.553104    -1.917405       -0.660648   1.026618   \n3          3.073580         -0.362411     1.660957       -0.744721   0.541370   \n4          0.142462          2.188664    -2.192664       -0.744721   0.569914   \n...             ...               ...          ...             ...        ...   \n6492      -0.783154         -0.787590    -0.197039       -0.807775  -0.486215   \n6493      -0.474615         -0.119451     0.284664        0.537383  -0.257863   \n6494      -0.551750         -0.605370    -0.885185       -0.891847  -0.429127   \n6495      -1.323097         -0.301671    -0.128224       -0.912866  -0.971463   \n6496      -0.937423         -0.787590     0.422293       -0.975920  -1.028551   \n\n      free_sulfur_dioxide  total_sulfur_dioxide   density        ph  \\\n0               -1.100055             -1.446247  1.034913  1.812950   \n1               -0.311296             -0.862402  0.701432 -0.115064   \n2               -0.874695             -1.092402  0.768128  0.258100   \n3               -0.762016             -0.986248  1.101609 -0.363840   \n4               -1.100055             -1.446247  1.034913  1.812950   \n...                   ...                   ...       ...       ...   \n6492            -0.367636             -0.420095 -1.186069  0.320294   \n6493             1.491582              0.924517  0.067819 -0.426034   \n6494            -0.029596             -0.083942 -0.719196 -1.421138   \n6495            -0.592996             -0.101635 -2.003097  0.755652   \n6496            -0.480316             -0.313942 -1.762991  0.258100   \n\n      sulphates   alcohol  quality  red_wine  intercept  \n0      0.193082 -0.915394        5  1.750055          1  \n1      0.999502 -0.580023        5  1.750055          1  \n2      0.797897 -0.580023        5  1.750055          1  \n3      0.327485 -0.580023        6  1.750055          1  \n4      0.193082 -0.915394        5  1.750055          1  \n...         ...       ...      ...       ...        ...  \n6492  -0.210128  0.593772        6 -0.571323          1  \n6493  -0.478935 -0.747709        5 -0.571323          1  \n6494  -0.478935 -0.915394        6 -0.571323          1  \n6495  -1.016548  1.935253        7 -0.571323          1  \n6496  -1.419758  1.096828        6 -0.571323          1  \n\n[6497 rows x 14 columns]",
      "text/html": "<div>\n<style scoped>\n    .dataframe tbody tr th:only-of-type {\n        vertical-align: middle;\n    }\n\n    .dataframe tbody tr th {\n        vertical-align: top;\n    }\n\n    .dataframe thead th {\n        text-align: right;\n    }\n</style>\n<table border=\"1\" class=\"dataframe\">\n  <thead>\n    <tr style=\"text-align: right;\">\n      <th></th>\n      <th>fixed_acidity</th>\n      <th>volatile_acidity</th>\n      <th>citric_acid</th>\n      <th>residual_sugar</th>\n      <th>chlorides</th>\n      <th>free_sulfur_dioxide</th>\n      <th>total_sulfur_dioxide</th>\n      <th>density</th>\n      <th>ph</th>\n      <th>sulphates</th>\n      <th>alcohol</th>\n      <th>quality</th>\n      <th>red_wine</th>\n      <th>intercept</th>\n    </tr>\n  </thead>\n  <tbody>\n    <tr>\n      <th>0</th>\n      <td>0.142462</td>\n      <td>2.188664</td>\n      <td>-2.192664</td>\n      <td>-0.744721</td>\n      <td>0.569914</td>\n      <td>-1.100055</td>\n      <td>-1.446247</td>\n      <td>1.034913</td>\n      <td>1.812950</td>\n      <td>0.193082</td>\n      <td>-0.915394</td>\n      <td>5</td>\n      <td>1.750055</td>\n      <td>1</td>\n    </tr>\n    <tr>\n      <th>1</th>\n      <td>0.451001</td>\n      <td>3.281982</td>\n      <td>-2.192664</td>\n      <td>-0.597594</td>\n      <td>1.197883</td>\n      <td>-0.311296</td>\n      <td>-0.862402</td>\n      <td>0.701432</td>\n      <td>-0.115064</td>\n      <td>0.999502</td>\n      <td>-0.580023</td>\n      <td>5</td>\n      <td>1.750055</td>\n      <td>1</td>\n    </tr>\n    <tr>\n      <th>2</th>\n      <td>0.451001</td>\n      <td>2.553104</td>\n      <td>-1.917405</td>\n      <td>-0.660648</td>\n      <td>1.026618</td>\n      <td>-0.874695</td>\n      <td>-1.092402</td>\n      <td>0.768128</td>\n      <td>0.258100</td>\n      <td>0.797897</td>\n      <td>-0.580023</td>\n      <td>5</td>\n      <td>1.750055</td>\n      <td>1</td>\n    </tr>\n    <tr>\n      <th>3</th>\n      <td>3.073580</td>\n      <td>-0.362411</td>\n      <td>1.660957</td>\n      <td>-0.744721</td>\n      <td>0.541370</td>\n      <td>-0.762016</td>\n      <td>-0.986248</td>\n      <td>1.101609</td>\n      <td>-0.363840</td>\n      <td>0.327485</td>\n      <td>-0.580023</td>\n      <td>6</td>\n      <td>1.750055</td>\n      <td>1</td>\n    </tr>\n    <tr>\n      <th>4</th>\n      <td>0.142462</td>\n      <td>2.188664</td>\n      <td>-2.192664</td>\n      <td>-0.744721</td>\n      <td>0.569914</td>\n      <td>-1.100055</td>\n      <td>-1.446247</td>\n      <td>1.034913</td>\n      <td>1.812950</td>\n      <td>0.193082</td>\n      <td>-0.915394</td>\n      <td>5</td>\n      <td>1.750055</td>\n      <td>1</td>\n    </tr>\n    <tr>\n      <th>...</th>\n      <td>...</td>\n      <td>...</td>\n      <td>...</td>\n      <td>...</td>\n      <td>...</td>\n      <td>...</td>\n      <td>...</td>\n      <td>...</td>\n      <td>...</td>\n      <td>...</td>\n      <td>...</td>\n      <td>...</td>\n      <td>...</td>\n      <td>...</td>\n    </tr>\n    <tr>\n      <th>6492</th>\n      <td>-0.783154</td>\n      <td>-0.787590</td>\n      <td>-0.197039</td>\n      <td>-0.807775</td>\n      <td>-0.486215</td>\n      <td>-0.367636</td>\n      <td>-0.420095</td>\n      <td>-1.186069</td>\n      <td>0.320294</td>\n      <td>-0.210128</td>\n      <td>0.593772</td>\n      <td>6</td>\n      <td>-0.571323</td>\n      <td>1</td>\n    </tr>\n    <tr>\n      <th>6493</th>\n      <td>-0.474615</td>\n      <td>-0.119451</td>\n      <td>0.284664</td>\n      <td>0.537383</td>\n      <td>-0.257863</td>\n      <td>1.491582</td>\n      <td>0.924517</td>\n      <td>0.067819</td>\n      <td>-0.426034</td>\n      <td>-0.478935</td>\n      <td>-0.747709</td>\n      <td>5</td>\n      <td>-0.571323</td>\n      <td>1</td>\n    </tr>\n    <tr>\n      <th>6494</th>\n      <td>-0.551750</td>\n      <td>-0.605370</td>\n      <td>-0.885185</td>\n      <td>-0.891847</td>\n      <td>-0.429127</td>\n      <td>-0.029596</td>\n      <td>-0.083942</td>\n      <td>-0.719196</td>\n      <td>-1.421138</td>\n      <td>-0.478935</td>\n      <td>-0.915394</td>\n      <td>6</td>\n      <td>-0.571323</td>\n      <td>1</td>\n    </tr>\n    <tr>\n      <th>6495</th>\n      <td>-1.323097</td>\n      <td>-0.301671</td>\n      <td>-0.128224</td>\n      <td>-0.912866</td>\n      <td>-0.971463</td>\n      <td>-0.592996</td>\n      <td>-0.101635</td>\n      <td>-2.003097</td>\n      <td>0.755652</td>\n      <td>-1.016548</td>\n      <td>1.935253</td>\n      <td>7</td>\n      <td>-0.571323</td>\n      <td>1</td>\n    </tr>\n    <tr>\n      <th>6496</th>\n      <td>-0.937423</td>\n      <td>-0.787590</td>\n      <td>0.422293</td>\n      <td>-0.975920</td>\n      <td>-1.028551</td>\n      <td>-0.480316</td>\n      <td>-0.313942</td>\n      <td>-1.762991</td>\n      <td>0.258100</td>\n      <td>-1.419758</td>\n      <td>1.096828</td>\n      <td>6</td>\n      <td>-0.571323</td>\n      <td>1</td>\n    </tr>\n  </tbody>\n</table>\n<p>6497 rows × 14 columns</p>\n</div>"
     },
     "metadata": {},
     "output_type": "display_data"
    }
   ],
   "source": [
    "# Elige una variable objetivo/dependiente para predecir.\n",
    "target = 'quality'\n",
    "\n",
    "# Selecciona todas las columnas que no son la variable objetivo.\n",
    "nc = [col for col in wine.columns if col != target] # Completar aquí.\n",
    "\n",
    "# Normaliza las variables que no son el objetivo.\n",
    "# Al restar la media y dividir por la desviación estándar, el procedimiento de normalización coloca\n",
    "# todas las variables predictoras en la misma escala (distribuciones con media == 0 y desviación estándar == 1).\n",
    "wine.loc[:, nc] = (wine[nc] - wine[nc].mean()) / wine[nc].std() # Completar\n",
    "\n",
    "# Añada la columna intercepto.\n",
    "wine['intercept'] = 1 # Completar\n",
    "\n",
    "# Muestra el conjunto de datos normalizado.\n",
    "display(wine)"
   ]
  },
  {
   "cell_type": "code",
   "execution_count": 42,
   "metadata": {
    "ExecuteTime": {
     "end_time": "2023-09-13T12:41:38.376538400Z",
     "start_time": "2023-09-13T12:41:38.260053600Z"
    }
   },
   "outputs": [],
   "source": [
    "X = wine[nc].values # Construye la matriz de características. Considera usar el atributo .values de las dataframes de pandas.\n",
    "y = wine[target].values # Construye el vector de salidas. Considera usar el atributo .values de las dataframes de pandas.\n",
    "\n",
    "# Dividir el conjunto de datos para validación.\n",
    "X_train, X_test, y_train, y_test = train_test_split(X, y, test_size=0.3, random_state=1) # Proporcion 70-30."
   ]
  },
  {
   "cell_type": "code",
   "execution_count": 43,
   "metadata": {
    "ExecuteTime": {
     "end_time": "2023-09-13T12:41:50.126620900Z",
     "start_time": "2023-09-13T12:41:50.056934800Z"
    }
   },
   "outputs": [
    {
     "name": "stdout",
     "output_type": "stream",
     "text": [
      "Coeficientes del modelo:\n",
      "[-0.03120419 -0.29091038 -0.07426497  0.13250572  0.00556388  0.14750674\n",
      "  0.00215676 -0.10092186 -0.04911731  0.12282788  0.39699734  0.25289125]\n",
      "\n",
      "Mean Squared Error (MSE): 34.38\n",
      "R-squared (R2): -44.85\n"
     ]
    }
   ],
   "source": [
    "# Prueba tu modelo con r_lambda = 1.0\n",
    "model = RidgeRegression(1.0) # Completar aquí.\n",
    "\n",
    "# Entrena tu modelo con los datos de entrenamiento.\n",
    "model.fit(X_train, y_train)\n",
    "\n",
    "# Imprime los coeficientes\n",
    "print(\"Coeficientes del modelo:\")\n",
    "print(model.theta_)\n",
    "\n",
    "# Predice los resultados sobre el conjunto de prueba.\n",
    "y_pred = model.predict(X_test)\n",
    "\n",
    "# Calcula las métricas de evaluación MSE y R2 e imprime.\n",
    "mse = mean_squared_error(y_test, y_pred)\n",
    "r2 = r2_score(y_test, y_pred)\n",
    "\n",
    "print(f\"\\nMean Squared Error (MSE): {mse:.2f}\")\n",
    "print(f\"R-squared (R2): {r2:.2f}\")"
   ]
  },
  {
   "cell_type": "markdown",
   "metadata": {},
   "source": [
    "Compara tus resultados anteriores con la implementación de scikit-learn. Deberías obtener los mismos resultados, ten en cuenta que $\\lambda$ se llama $\\alpha$ en scikit-learn, esto se hace en varios modelos para evitar el problema con la palabra clave ``lambda`` en Python."
   ]
  },
  {
   "cell_type": "code",
   "execution_count": 44,
   "metadata": {
    "ExecuteTime": {
     "end_time": "2023-09-13T12:42:16.312414Z",
     "start_time": "2023-09-13T12:42:16.233779200Z"
    }
   },
   "outputs": [
    {
     "name": "stdout",
     "output_type": "stream",
     "text": [
      "\n",
      "Resultados del modelo de scikit-learn:\n",
      "Mean Squared Error (MSE): 34.38\n",
      "R-squared (R2): -44.85\n"
     ]
    }
   ],
   "source": [
    "# Haz el mismo análisis con el modelo de ridge regression de scikit-learn.\n",
    "from sklearn.linear_model import Ridge\n",
    "# Entrena el modelo de Ridge de scikit-learn\n",
    "clf = Ridge(alpha=1.0, fit_intercept=False)\n",
    "clf.fit(X_train, y_train)\n",
    "y_pred_sklearn = clf.predict(X_test)\n",
    "\n",
    "# Calcula las métricas de evaluación para el modelo de scikit-learn 0.53, -1.25\n",
    "mse_sklearn = mean_squared_error(y_test, y_pred_sklearn)\n",
    "r2_sklearn = r2_score(y_test, y_pred_sklearn)\n",
    "\n",
    "print(\"\\nResultados del modelo de scikit-learn:\")\n",
    "print(f\"Mean Squared Error (MSE): {mse_sklearn:.2f}\")\n",
    "print(f\"R-squared (R2): {r2_sklearn:.2f}\")"
   ]
  },
  {
   "cell_type": "markdown",
   "metadata": {},
   "source": [
    "Tu modelo debería haber arrojado un valor negativo de $R^2$. Por favor, proporciona una explicación adecuada sobre el significado de este valor.\n",
    "\n",
    "#### Respuesta:\n",
    "Tu respuesta va a aquí."
   ]
  },
  {
   "cell_type": "markdown",
   "metadata": {},
   "source": [
    "## Clasificación con Regresión Logística\n",
    "\n",
    "Finalmente, nos dirigimos a las técnicas de clasificación. Ten en cuenta que la Regresión Logística en realidad proporciona una estimación de una probabilidad entre 0 y 1. Por lo tanto, es en realidad un método de regresión para ese intervalo; sin embargo, se convierte en un esquema de clasificación al interpretar esta probabilidad como la posibilidad de que un cierto punto de datos pertenezca a una clase positiva. En otras palabras, todos los valores iguales o superiores a 0.5 se asignan a 1 y todos los demás se asignan a 0 (es decir, redondeo).\n",
    "\n",
    "Utilizaremos el conjunto de datos de calidad del vino, pero en lugar de predecir la calidad, intentaremos predecir si es vino tinto o no. Inicialmente, utilizaremos la implementación de scikit-learn para mostrar lo sencillo que es. Importemos los módulos relevantes."
   ]
  },
  {
   "cell_type": "code",
   "execution_count": 34,
   "metadata": {
    "ExecuteTime": {
     "end_time": "2023-09-13T12:37:48.229856100Z",
     "start_time": "2023-09-13T12:37:48.202326600Z"
    }
   },
   "outputs": [],
   "source": [
    "from sklearn.linear_model import LogisticRegression\n",
    "from sklearn.metrics import accuracy_score"
   ]
  },
  {
   "cell_type": "markdown",
   "metadata": {},
   "source": [
    "Ahora lee los datos nuevamente (o revierte la normalización y cambia la variable de salida a `red_wine` en lugar de `quality`, pero eso podría llevar más tiempo). Luego, divide nuevamente en conjuntos de entrenamiento y prueba (70/30 de división)."
   ]
  },
  {
   "cell_type": "code",
   "execution_count": 35,
   "metadata": {
    "ExecuteTime": {
     "end_time": "2023-09-13T12:38:22.947217300Z",
     "start_time": "2023-09-13T12:38:22.582928800Z"
    }
   },
   "outputs": [],
   "source": [
    "from sklearn.preprocessing import StandardScaler  # Importa StandardScaler\n",
    "\n",
    "# Leer el conjunto de datos\n",
    "wine = pd.read_csv(\"03_Winequality.csv\")\n",
    "\n",
    "# Seleccionar la variable objetivo (dependiente)\n",
    "target = 'red_wine'\n",
    "\n",
    "# Seleccionar todas las columnas que no son la variable objetivo\n",
    "non_target_cols = [col for col in wine.columns if col != target]\n",
    "\n",
    "# Normalizar las variables que no son el objetivo utilizando StandardScaler\n",
    "scaler = StandardScaler()\n",
    "wine[non_target_cols] = scaler.fit_transform(wine[non_target_cols])\n",
    "\n",
    "# Agregar una columna de intercepto (unos) al conjunto de datos\n",
    "wine['intercept'] = 1\n",
    "\n",
    "# Construir la matriz de características (X) y el vector de salidas (y)\n",
    "X = wine[non_target_cols + ['intercept']].values\n",
    "y = wine[target].values\n",
    "\n",
    "# Dividir el conjunto de datos en conjuntos de entrenamiento y prueba (proporción 70-30)\n",
    "X_train, X_test, y_train, y_test = train_test_split(X, y, test_size=0.3, random_state=42)"
   ]
  },
  {
   "cell_type": "markdown",
   "metadata": {},
   "source": [
    "Ahora probemos la implementación de Regresión Logística de scikit-learn. Ten en cuenta que esta implementación incluye varios parámetros predeterminados que están ocultos (¡tiene un término de regularización por defecto!)."
   ]
  },
  {
   "cell_type": "code",
   "execution_count": 36,
   "metadata": {
    "ExecuteTime": {
     "end_time": "2023-09-13T12:38:41.826391900Z",
     "start_time": "2023-09-13T12:38:41.620053300Z"
    }
   },
   "outputs": [
    {
     "name": "stdout",
     "output_type": "stream",
     "text": [
      "Precisión del modelo de Regresión Logística (scikit-learn): 0.9892307692307692\n"
     ]
    }
   ],
   "source": [
    "# Inicializar y entrenar el modelo de Regresión Logística\n",
    "model = LogisticRegression()\n",
    "model.fit(X_train, y_train)\n",
    "\n",
    "# Realizar predicciones en el conjunto de prueba\n",
    "y_pred = model.predict(X_test)\n",
    "\n",
    "# Calcular la precisión del modelo\n",
    "accuracy = accuracy_score(y_test, y_pred)\n",
    "print(\"Precisión del modelo de Regresión Logística (scikit-learn):\", accuracy)\n"
   ]
  },
  {
   "cell_type": "markdown",
   "metadata": {},
   "source": [
    "Ahora implementemos la Regresión Logística nosotros mismos utilizando el Descenso de Gradiente. Para hacer esto, necesitamos definir nuestra función de costo:\n",
    "\n",
    "$$ J(\\theta) = \\frac{1}{n} \\sum_{i=1}^{N}{y^{(i)}\\log(h_\\theta(x^{(i)}) + (1 - y^{(i)})\\log(1 - h_\\theta(x^{(i)})}$$\n",
    "\n",
    "#### ===== Opcional =====\n",
    "Demuestra que la derivada de la función de costo está dada por:\n",
    "\n",
    "$$ \\nabla J(\\theta) = x(\\hat{y} - y)$$\n",
    "\n",
    "Donde $y$ es la etiqueta de clase real (0 o 1), $\\hat{y}$ es la predicción del modelo (nota que esto usa una función sigmoide, que es posible que necesites) y $x$ es tu característica o vector de características). Para este ejercicio, podría ser útil investigar primero la derivada de la función sigmoide.\n",
    "#### ===== Fin de la Parte Opcional ===== "
   ]
  },
  {
   "cell_type": "markdown",
   "metadata": {},
   "source": [
    "Para aplicar el Descenso de Gradiente, primero necesitaremos implementar la función sigmoide, que está definida como:\n",
    "\n",
    "$$ \\sigma(x) = \\frac{1}{1+\\exp(-x)}$$"
   ]
  },
  {
   "cell_type": "code",
   "execution_count": null,
   "metadata": {},
   "outputs": [],
   "source": [
    "def sigmoid(x):\n",
    "  return 1 / (1 + np.exp(-x))"
   ]
  },
  {
   "cell_type": "markdown",
   "metadata": {},
   "source": [
    "#### Implementación con Descenso de Gradiente\n",
    "Ahora implementaremos la Regresión Logística utilizando el Descenso de Gradiente, completa la siguiente clase. Tienes las funciones básicas `fit` y `predict`, pero también tienes una función auxiliar que podrías necesitar para el descenso de gradiente. Ten en cuenta que $\\alpha$ es nuestra tasa de aprendizaje en este contexto (consulta las clases para obtener detalles sobre el algoritmo de Descenso de Gradiente).\n",
    "\n",
    "Para fines de nuestro ejercicio, detendremos el descenso de gradiente después de haber alcanzado un cierto número de iteraciones; no usaremos una estimación del error para detenernos. Aunque sería lo correcto, volveremos al Descenso de Gradiente más adelante, por lo que por ahora un simple bucle `for` es suficiente (nota que de otra manera tendríamos que implementar un bucle `while` y definir una tolerancia para el error, además del número máximo de iteraciones permitidas)."
   ]
  },
  {
   "cell_type": "code",
   "execution_count": 37,
   "metadata": {
    "ExecuteTime": {
     "end_time": "2023-09-13T12:39:08.553479600Z",
     "start_time": "2023-09-13T12:39:08.501655900Z"
    }
   },
   "outputs": [],
   "source": [
    "class LogisticRegressionGD(object):\n",
    "    def __init__(self):\n",
    "        self.theta_ = np.array([0])\n",
    "\n",
    "    def sigmoid(self, x):\n",
    "        return 1 / (1 + np.exp(-x))\n",
    "\n",
    "    def update_weights(self, features, labels, alpha):\n",
    "        n = features.shape[1]  # Cantidad de columnas\n",
    "        self.theta_ = np.zeros(n)  # Inicializa theta con ceros\n",
    "\n",
    "        for _ in range(5000):  # Número máximo de iteraciones\n",
    "            # 1 - Obtén las predicciones\n",
    "            predictions = self.sigmoid(np.dot(features, self.theta_))\n",
    "\n",
    "            # 2 - Calcula el gradiente\n",
    "            error = labels - predictions\n",
    "            gradient = np.dot(features.T, error)\n",
    "\n",
    "            # 3 - Calcula el promedio de la derivada del costo para cada característica (dividir por n)\n",
    "            gradient /= n\n",
    "\n",
    "            # 4 - Multiplica el gradiente por la tasa de aprendizaje\n",
    "            gradient *= alpha\n",
    "\n",
    "            # 5 - Substrae el valor obtenido de los pesos para minimizar el costo\n",
    "            self.theta_ += gradient\n",
    "\n",
    "    def fit(self, X, y, max_iters=5000, lr=0.01):\n",
    "        self.update_weights(X, y, lr)\n",
    "\n",
    "    def predict(self, X_test):\n",
    "        # Obtén las predicciones. Este es un problema de clasificación binaria.\n",
    "        # Debes predecir 1 o 0 utilizando un umbral de 0.5.\n",
    "        probabilities = self.sigmoid(np.dot(X_test, self.theta_))\n",
    "        predictions = (probabilities >= 0.5).astype(int)\n",
    "        return predictions"
   ]
  },
  {
   "cell_type": "markdown",
   "metadata": {},
   "source": [
    "Ahora prueba el modelo con los mismos datos que antes y compara los resultados, deberían ser similares. Puede ser necesario cambiar el número de épocas (iteraciones) para obtener resultados óptimos. Es posible que veas resultados diferentes, ya que, como mencionamos antes, la función `LogisticRegression` de scikit-learn tiene muchos parámetros adicionales inicializados en valores predeterminados. Sin embargo, los resultados aún deberían ser decentes."
   ]
  },
  {
   "cell_type": "code",
   "execution_count": 38,
   "metadata": {
    "ExecuteTime": {
     "end_time": "2023-09-13T12:39:27.384555600Z",
     "start_time": "2023-09-13T12:39:24.161144700Z"
    }
   },
   "outputs": [
    {
     "name": "stdout",
     "output_type": "stream",
     "text": [
      "Precisión del modelo de Regresión Logística con Descenso de Gradiente: 0.9902564102564102\n"
     ]
    }
   ],
   "source": [
    "# Instancia y entrena el modelo de Regresión Logística con Descenso de Gradiente\n",
    "logistic_regression_gd = LogisticRegressionGD()\n",
    "logistic_regression_gd.fit(X_train, y_train, max_iters=10000, lr=0.01)\n",
    "\n",
    "# Realiza predicciones en el conjunto de prueba\n",
    "y_pred_gd = logistic_regression_gd.predict(X_test)\n",
    "\n",
    "# Calcula la precisión del modelo implementado con Descenso de Gradiente\n",
    "accuracy_gd = accuracy_score(y_test, y_pred_gd)\n",
    "print(\"Precisión del modelo de Regresión Logística con Descenso de Gradiente:\", accuracy_gd)"
   ]
  },
  {
   "cell_type": "markdown",
   "metadata": {},
   "source": [
    "## ¡Felicitaciones, has completado tu tercer tarea!"
   ]
  },
  {
   "cell_type": "code",
   "execution_count": null,
   "outputs": [],
   "source": [],
   "metadata": {
    "collapsed": false
   }
  }
 ],
 "metadata": {
  "kernelspec": {
   "display_name": "Python 3 (ipykernel)",
   "language": "python",
   "name": "python3"
  },
  "language_info": {
   "codemirror_mode": {
    "name": "ipython",
    "version": 3
   },
   "file_extension": ".py",
   "mimetype": "text/x-python",
   "name": "python",
   "nbconvert_exporter": "python",
   "pygments_lexer": "ipython3",
   "version": "3.11.4"
  }
 },
 "nbformat": 4,
 "nbformat_minor": 2
}
