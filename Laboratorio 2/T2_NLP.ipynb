{
 "cells": [
  {
   "cell_type": "markdown",
   "metadata": {},
   "source": [
    "# Tarea 2: Representación de Texto y Motores de Búsqueda\n",
    "\n",
    "En esta tarea vamos a ver cómo implementar un motor de búsqueda básico utilizando técnicas de representación de texto y medidas de similitud. Vamos a aprender a usar algunas funciones simples de las librerías scikit-learn y pandas.\n",
    "\n",
    "Primero, vamos a importar algunas librerías que necesitaremos antes de seguir adelante."
   ]
  },
  {
   "cell_type": "code",
   "execution_count": 1,
   "metadata": {
    "ExecuteTime": {
     "end_time": "2023-09-04T14:54:15.166230500Z",
     "start_time": "2023-09-04T14:54:12.517547400Z"
    }
   },
   "outputs": [],
   "source": [
    "import pandas as pd\n",
    "from sklearn.feature_extraction.text import TfidfVectorizer  # Tf-idf\n",
    "from sklearn.feature_extraction.text import CountVectorizer\n",
    "from sklearn.model_selection import train_test_split  # Hablaremos más sobre validación y selección de modelos después.\n",
    "from sklearn.naive_bayes import MultinomialNB  # Un clasificador simple, no hemos visto cómo funciona esto en clases.\n",
    "from sklearn import metrics\n",
    "from sklearn.metrics.pairwise import cosine_similarity\n",
    "import numpy as np"
   ]
  },
  {
   "cell_type": "markdown",
   "metadata": {},
   "source": [
    "Aquí te dejo una función de utilidad. Se utiliza para ordenar un arreglo numpy por su columna n-ésima (por defecto, ordena por la primera columna con n = 0). Devuelve los resultados en orden descendente. No es necesario que modifiques esta función, y no es obligatorio que la uses si no quieres."
   ]
  },
  {
   "cell_type": "code",
   "execution_count": 2,
   "metadata": {
    "ExecuteTime": {
     "end_time": "2023-09-04T14:54:28.339526300Z",
     "start_time": "2023-09-04T14:54:28.303200Z"
    }
   },
   "outputs": [],
   "source": [
    "def sort_array_col(arr, n=0):\n",
    "    return arr[arr[:,n].argsort()[::-1]]"
   ]
  },
  {
   "cell_type": "markdown",
   "metadata": {},
   "source": [
    "## Leyendo los datos\n",
    "\n",
    "Tenemos un conjunto de resúmenes de artículos en un archivo CSV de tres temas diferentes (bioinformática, procesamiento de datos, redes). Tu primera tarea es leer el archivo CSV y extraer los artículos. Nos interesa solamente los resúmenes y el tema de cada artículo:"
   ]
  },
  {
   "cell_type": "code",
   "execution_count": 7,
   "metadata": {
    "ExecuteTime": {
     "end_time": "2023-09-04T15:04:03.302523100Z",
     "start_time": "2023-09-04T15:04:03.257595200Z"
    }
   },
   "outputs": [],
   "source": [
    "# Leer el archivo CSV 02_Dataset.csv con Pandas.\n",
    "data = pd.read_csv(\"02_Dataset.csv\")\n",
    "\n",
    "# Convertir el tema en una variable numérica (pista: usar el llamado de función data.topic.map). \n",
    "# Asignar 0 a 'bioinformatics', 1 a 'network' y 2 a 'preprocessing data'.\n",
    "data['topic_num'] = data['topic'].map({'bioinformatics': 0, 'network': 1, 'preprocessing data': 2})\n",
    "\n",
    "X = data['abstract'].values\n",
    "y = data['topic_num'].values"
   ]
  },
  {
   "cell_type": "markdown",
   "metadata": {},
   "source": [
    "Vamos a dividir el conjunto de datos en un conjunto de entrenamiento (que utilizaremos para entrenar los modelos de representación) y un conjunto de pruebas que usaremos más adelante en la última parte de la tarea. Aunque no es estrictamente necesario para la primera parte de esta tarea, es una buena práctica para la segunda parte."
   ]
  },
  {
   "cell_type": "code",
   "execution_count": 8,
   "metadata": {
    "ExecuteTime": {
     "end_time": "2023-09-04T15:04:09.190597200Z",
     "start_time": "2023-09-04T15:04:09.169235200Z"
    }
   },
   "outputs": [],
   "source": [
    "# Dividir X e y en conjuntos de entrenamiento y prueba\n",
    "# 70% del conjunto de datos se usa para entrenar los modelos.\n",
    "# En este caso solo utilizaremos este conjunto de datos para la primera parte.\n",
    "# 30% del conjunto de datos se usa para probar los modelos. \n",
    "# Esto se usará para probar el clasificador de la última parte.\n",
    "X_train, X_test, y_train, y_test = train_test_split(X, y, random_state=3, test_size=0.3)"
   ]
  },
  {
   "cell_type": "markdown",
   "metadata": {},
   "source": [
    "## Modelo de Bag of Words (BoW)\n",
    "\n",
    "Ahora construimos el modelo de Bag of Words (BoW)."
   ]
  },
  {
   "cell_type": "code",
   "execution_count": null,
   "metadata": {},
   "outputs": [],
   "source": [
    "# Instanciar el vectorizador\n",
    "# Para Bag of Words quieres usar CountVectorizer con los siguientes parámetros: \n",
    "# stop_words='english', ngram_range=(1, 2), max_df=0.9, min_df=2.\n",
    "# Puedes intentar mejorar el rendimiento de tu modelo cambiando los últimos dos parámetros.\n",
    "# Notar que estos modelos son específicos para este problema.\n",
    "# En un problema real, los parámetros serían posiblemente muy diferentes.\n",
    "vectorizador = CountVectorizer(stop_words='english', ngram_range=(1, 2), max_df=0.9, min_df=2)\n",
    "vect_bow =\n",
    "# Ajustar el modelo cn X_train.\n",
    "\n",
    "# Luego, usalo para crear la matriz de documentos y términos.\n",
    "X_train_dtm_bow = # Completar."
   ]
  },
  {
   "cell_type": "markdown",
   "metadata": {},
   "source": [
    "Ahora vectorizamos el conjunto de pruebas."
   ]
  },
  {
   "cell_type": "code",
   "execution_count": null,
   "metadata": {},
   "outputs": [],
   "source": [
    "# Transformar los datos de prueba (utilizando el vocabulario ajustado) en una matriz documento-término\n",
    "X_test_dtm_bow = # Completar"
   ]
  },
  {
   "cell_type": "markdown",
   "metadata": {},
   "source": [
    "¡Ahora vamos a consultar nuestro modelo! Probaremos el modelo con la cadena de búsqueda proporcionada en los datos de X_train. Siéntete libre de probar con tus propias cadenas, ¡es un ejercicio divertido! :)\n",
    "\n",
    "Debes devolver los elementos ordenados por su similitud (los elementos más similares deben mostrarse primero) y el propio texto debe mostrarse también.\n",
    "\n",
    "Solo debes devolver los elementos que tengan una similitud mayor a 0."
   ]
  },
  {
   "cell_type": "code",
   "execution_count": null,
   "metadata": {},
   "outputs": [],
   "source": [
    "query_string = \"research on data science and biological analysis\"\n",
    "query_vec = vect_bow.transform([query_string])\n",
    "# Hay que obtener la similitud del coseno entre la query y todos los documentos del conjunto de entrenamiento.\n",
    "# Puedes implementar la similitud desde cero o usar librerías.\n",
    "cos_sim = # Completar\n",
    "# Puede que tengas que usar la función np.vstack\n",
    "# Imprimir los documentos recuperados con similitud > 0 (posiblemente necesites usar sort_array_col)."
   ]
  },
  {
   "cell_type": "markdown",
   "metadata": {},
   "source": [
    "## Modelo TF-IDF\n",
    "\n",
    "Ahora construiremos el modelo TF-IDF."
   ]
  },
  {
   "cell_type": "code",
   "execution_count": null,
   "metadata": {},
   "outputs": [],
   "source": [
    "# Instanciar el vectorizador\n",
    "# Para TF-IDF quieres usar TfidfVectorizer con los siguientes parámetros: \n",
    "# stop_words='english', ngram_range=(1, 2), max_df=0.95, min_df=2.\n",
    "# Puedes tratar de mejorar el rendimiento cambiando los últimos dos parámetros.\n",
    "vect_tf_idf = # Completar\n",
    "# Ajustar el modelo y luego usarlo para crear una matriz documento-término\n",
    "X_train_dtm_tf_idf = # Completar\n",
    "# Transformar los datos de prueba (utilizando el vocabulario ajustado) en una matriz documento-término\n",
    "X_test_dtm_tf_idf = # Completar"
   ]
  },
  {
   "cell_type": "markdown",
   "metadata": {},
   "source": [
    "Ahora probemos nuestro nuevo modelo con la misma consulta."
   ]
  },
  {
   "cell_type": "code",
   "execution_count": null,
   "metadata": {},
   "outputs": [],
   "source": [
    "query_string = \"research on data science and biological analysis\"\n",
    "query_vec = vect_bow.transform([query_string])\n",
    "# Puedes reciclar tu código anterior!\n",
    "# Hay que obtener la similitud del coseno entre la query y todos los documentos del conjunto de entrenamiento.\n",
    "# Puedes implementar la similitud desde cero o usar librerías.\n",
    "cos_sim = # Completar\n",
    "# Puede que tengas que usar la función np.vstack\n",
    "# Imprimir los documentos recuperados con similitud > 0 (posiblemente necesites usar sort_array_col)."
   ]
  },
  {
   "cell_type": "markdown",
   "metadata": {},
   "source": [
    "## Nuestro Primer Clasificador\n",
    "\n",
    "Ahora, vamos a saltarnos algunas clases (bueno, muchas clases) y te vamos a obligar a implementar un clasificador Bayesiano. ¿Espera, un qué? Básicamente, queremos un modelo que tome un texto y nos indique su tema. Esto podría hacerse utilizando el clasificador **Naïve Bayes**, que se implementa fácilmente en scikit-learn. Estudiaremos este método más adelante en el curso, pero por ahora lo aplicaremos como una caja negra.\n",
    "\n",
    "Primero, probaremos un clasificador con el Modelo de Bag of Words (BoW)."
   ]
  },
  {
   "cell_type": "code",
   "execution_count": null,
   "metadata": {},
   "outputs": [],
   "source": [
    "# La distribución multinomial normalmente requiere recuentos de características enteras.\n",
    "# En este caso, lo usaremos con bag of words que nos entrega la cantidad de ocurrencias de cada palabra.\n",
    "# Instanciar un modelo Naïve Bayes Multinomial\n",
    "nb_bow = # Completar\n",
    "\n",
    "# Entrenar el modelo usando X_train_dtm con la función fit.\n",
    "\n",
    "# Hacer predicciones de clase para X_test_dtm.\n",
    "y_pred_class = # Completar\n",
    "\n",
    "# Calcular la precisión de las predicciones de clase utilizando accuracy_score de la librería metrics.\n",
    "\n",
    "# Imprimir la matriz de confusión (¡veremos qué es esto pronto!) con la función confusion_matrix de la librería metrics."
   ]
  },
  {
   "cell_type": "markdown",
   "metadata": {},
   "source": [
    "Ahora probaremos un clasificador con el modelo TF-IDF."
   ]
  },
  {
   "cell_type": "code",
   "execution_count": null,
   "metadata": {},
   "outputs": [],
   "source": [
    "# La distribución multinomial normalmente requiere recuentos de características enteras.\n",
    "# Sin embargo, en la práctica, recuentos fraccionales como tf-idf también pueden funcionar.\n",
    "# Instanciar un modelo Naïve Bayes Multinomial\n",
    "nb_tf_idf = # Completar\n",
    "\n",
    "# Entrenar el modelo usando X_train_dtm_tf_idf con la función fit.\n",
    "\n",
    "# Hacer predicciones de clase para X_test_dtm_tf_idf.\n",
    "y_pred_class = # Completar\n",
    "\n",
    "# Calcular la precisión de las predicciones de clase utilizando accuracy_score de la librería metrics.\n",
    "\n",
    "# Imprimir la matriz de confusión (¡veremos qué es esto pronto!) con la función confusion_matrix de la librería metrics."
   ]
  },
  {
   "cell_type": "markdown",
   "metadata": {},
   "source": [
    "## Análisis\n",
    "\n",
    "Entonces, ¿qué modelo es mejor? ¿Coincide esto con los resultados esperados de la clase? Modifica esta celda markdown y agrega tus respuestas a continuación. Considera el rendimiento tanto en la tarea de clasificación como en el modelo de motor de búsqueda. Prueba con consultas adicionales para ver cómo funcionan los modelos. Esta parte, por supuesto, será evaluada.\n",
    "\n",
    "#### Respuesta:\n",
    "- Inserta tu respuesta aquí."
   ]
  },
  {
   "cell_type": "markdown",
   "metadata": {},
   "source": [
    "## ¡Felicitaciones, has completado tu segunda tarea!"
   ]
  }
 ],
 "metadata": {
  "kernelspec": {
   "display_name": "Python 3 (ipykernel)",
   "language": "python",
   "name": "python3"
  },
  "language_info": {
   "codemirror_mode": {
    "name": "ipython",
    "version": 3
   },
   "file_extension": ".py",
   "mimetype": "text/x-python",
   "name": "python",
   "nbconvert_exporter": "python",
   "pygments_lexer": "ipython3",
   "version": "3.11.4"
  }
 },
 "nbformat": 4,
 "nbformat_minor": 2
}
